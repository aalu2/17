{
  "nbformat": 4,
  "nbformat_minor": 0,
  "metadata": {
    "colab": {
      "provenance": []
    },
    "kernelspec": {
      "name": "python3",
      "display_name": "Python 3"
    },
    "language_info": {
      "name": "python"
    }
  },
  "cells": [
    {
      "cell_type": "code",
      "source": [
        "#Answer of 1\n",
        "from queue import Queue\n",
        "\n",
        "def genBin(n):\n",
        "    # create a queue and add the first binary number 1\n",
        "    q = Queue()\n",
        "    q.put(\"1\")\n",
        "    \n",
        "    # loop through all numbers from 1 to n\n",
        "    for i in range(n):\n",
        "        # dequeue the front element from the queue\n",
        "        s1 = q.get()\n",
        "        \n",
        "        # print the dequeued element\n",
        "        print(s1)\n",
        "        \n",
        "        # append \"0\" and \"1\" to the dequeued element\n",
        "        s2 = s1\n",
        "        s1 += \"0\"\n",
        "        s2 += \"1\"\n",
        "        \n",
        "        # enqueue the new elements to the queue\n",
        "        q.put(s1)\n",
        "        q.put(s2)\n",
        "#Test function        \n",
        "genBin(7)\n"
      ],
      "metadata": {
        "colab": {
          "base_uri": "https://localhost:8080/"
        },
        "id": "AnhbapCDHZMk",
        "outputId": "81c8bb24-b12a-4c78-a20a-1c3370809cd0"
      },
      "execution_count": 1,
      "outputs": [
        {
          "output_type": "stream",
          "name": "stdout",
          "text": [
            "1\n",
            "10\n",
            "11\n",
            "100\n",
            "101\n",
            "110\n",
            "111\n"
          ]
        }
      ]
    },
    {
      "cell_type": "code",
      "source": [
        "#Answer of 2\n",
        "from queue import Queue\n",
        "\n",
        "class Stack:\n",
        "    def __init__(self):\n",
        "        self.q = Queue()\n",
        "\n",
        "    def push(self, x):\n",
        "        self.q.put(x)\n",
        "        for _ in range(self.q.qsize() - 1):\n",
        "            self.q.put(self.q.get())\n",
        "\n",
        "    def pop(self):\n",
        "        return self.q.get()\n",
        "\n",
        "s = Stack()\n",
        "s.push(7)\n",
        "s.push(8)\n",
        "s.push(9)\n",
        "print(s.pop()) \n",
        "print(s.pop()) \n",
        "print(s.pop()) "
      ],
      "metadata": {
        "colab": {
          "base_uri": "https://localhost:8080/"
        },
        "id": "bYvAmIVMHeCG",
        "outputId": "c92851c4-2477-43dc-f0bb-1fd442e00896"
      },
      "execution_count": 2,
      "outputs": [
        {
          "output_type": "stream",
          "name": "stdout",
          "text": [
            "9\n",
            "8\n",
            "7\n"
          ]
        }
      ]
    },
    {
      "cell_type": "code",
      "source": [
        "#Answer of 3\n",
        "class PriorityQueue:\n",
        "    def __init__(self):\n",
        "        self.queue = []\n",
        "\n",
        "    def __str__(self):\n",
        "        return ' '.join([str(i[0]) for i in self.queue])\n",
        "\n",
        "    def is_empty(self):\n",
        "        return len(self.queue) == 0\n",
        "\n",
        "    def insert(self, data):\n",
        "        priority = ord(data)\n",
        "        element = (data, priority)\n",
        "        if self.is_empty():\n",
        "            self.queue.append(element)\n",
        "        else:\n",
        "            for i in range(len(self.queue)):\n",
        "                if self.queue[i][1] < element[1]:\n",
        "                    self.queue.insert(i, element)\n",
        "                    break\n",
        "            else:\n",
        "                self.queue.append(element)\n",
        "\n",
        "    def delete(self):\n",
        "        if self.is_empty():\n",
        "            return \"Queue is empty\"\n",
        "        else:\n",
        "            return self.queue.pop(0)[0]\n",
        "\n",
        "def test_priority_queue():\n",
        "    q = PriorityQueue()\n",
        "    q.insert('a')\n",
        "    q.insert('c')\n",
        "    q.insert('b')\n",
        "    q.insert('e')\n",
        "    q.insert('d')\n",
        "    assert str(q) == \"e d c b a\"\n",
        "    assert q.delete() == \"e\"\n",
        "    assert q.delete() == \"d\"\n",
        "    assert q.delete() == \"c\"\n",
        "    assert q.delete() == \"b\"\n",
        "    assert q.delete() == \"a\"\n",
        "    assert q.delete() == \"Queue is empty\"\n",
        "\n",
        "test_priority_queue()\n"
      ],
      "metadata": {
        "id": "u8F2420GIx0g"
      },
      "execution_count": 3,
      "outputs": []
    },
    {
      "cell_type": "code",
      "source": [
        "#Answer of 4\n",
        "def getNumElem(size, front, rear):\n",
        "    if front == -1 and rear == -1:\n",
        "        return 0\n",
        "    elif front <= rear:\n",
        "        return rear - front + 1\n",
        "    else:\n",
        "        return size - front + rear\n",
        "\n",
        "size = 10\n",
        "front = 7\n",
        "rear = 3\n",
        "\n",
        "print(getNumElem(size, front, rear)) "
      ],
      "metadata": {
        "colab": {
          "base_uri": "https://localhost:8080/"
        },
        "id": "RcBrQ1HJMvxN",
        "outputId": "ac4773ca-545c-4f48-a377-b33b8305ac5d"
      },
      "execution_count": 6,
      "outputs": [
        {
          "output_type": "stream",
          "name": "stdout",
          "text": [
            "6\n"
          ]
        }
      ]
    }
  ]
}